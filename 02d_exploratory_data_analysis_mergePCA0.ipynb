{
 "cells": [
  {
   "cell_type": "markdown",
   "id": "ffddb8c1",
   "metadata": {},
   "source": [
    "# <u>Drought Prediction</u>: Exploratory Data Analysis"
   ]
  },
  {
   "cell_type": "markdown",
   "id": "a24ebbd5",
   "metadata": {},
   "source": [
    "INSERT INTRODUCTION AND CONTEXT"
   ]
  },
  {
   "cell_type": "markdown",
   "id": "59f9be5d",
   "metadata": {},
   "source": [
    "#### Import neccesary libraries for data exploration."
   ]
  },
  {
   "cell_type": "code",
   "execution_count": 1,
   "id": "d3e7559a",
   "metadata": {},
   "outputs": [],
   "source": [
    "#Import pandas, matplotlib.pyplot, and seaborn\n",
    "import pandas as pd\n",
    "import numpy as np\n",
    "\n",
    "import matplotlib.pyplot as plt\n",
    "import seaborn as sns\n",
    "\n",
    "from sklearn.decomposition import PCA\n",
    "from sklearn.preprocessing import StandardScaler"
   ]
  },
  {
   "cell_type": "markdown",
   "id": "4892ac13",
   "metadata": {},
   "source": [
    "#### Load Training Dataset and Soil Dataset.  Convert Training Dataset date variable from object to datetime."
   ]
  },
  {
   "cell_type": "code",
   "execution_count": 4,
   "id": "8e7c0014",
   "metadata": {},
   "outputs": [],
   "source": [
    "# Local location of the data\n",
    "# local_data = 'D:\\\\Data_Science\\\\DroughtProject\\\\Data\\\\' # Location on Windows\n",
    "local_data = '/Users/tanishalohchab/Downloads/drought_prediction-main/dataset/' # Location on Linux\n",
    "#the data set is large and hence found other ways to load data from hte stackoverflow.\n",
    "N = 19300680 # number of rows in the training_data_set & the merge.\n",
    "N1 = int(N/2)\n"
   ]
  },
  {
   "cell_type": "markdown",
   "id": "e5db935b",
   "metadata": {},
   "source": [
    "#### Confirm datasets are properly loaded and contain expected datatypes."
   ]
  },
  {
   "cell_type": "code",
   "execution_count": 5,
   "id": "63dfec95",
   "metadata": {},
   "outputs": [],
   "source": [
    "ts_merge0 = pd.read_csv(local_data + 'train_soil_merge.csv', skiprows=[i for i in range(N1,N-1)])"
   ]
  },
  {
   "cell_type": "code",
   "execution_count": 6,
   "id": "be6a7586",
   "metadata": {},
   "outputs": [],
   "source": [
    "# Convert date column from object to datetime for training set.\n",
    "ts_merge0['date'] = pd.to_datetime(ts_merge0['date'])"
   ]
  },
  {
   "cell_type": "code",
   "execution_count": 7,
   "id": "6c4b9f1d",
   "metadata": {},
   "outputs": [
    {
     "name": "stdout",
     "output_type": "stream",
     "text": [
      "<class 'pandas.core.frame.DataFrame'>\n",
      "RangeIndex: 9650341 entries, 0 to 9650340\n",
      "Data columns (total 53 columns):\n",
      " #   Column         Dtype         \n",
      "---  ------         -----         \n",
      " 0   Unnamed: 0     int64         \n",
      " 1   fips           int64         \n",
      " 2   date           datetime64[ns]\n",
      " 3   PRECTOT        float64       \n",
      " 4   PS             float64       \n",
      " 5   QV2M           float64       \n",
      " 6   T2M            float64       \n",
      " 7   T2MDEW         float64       \n",
      " 8   T2MWET         float64       \n",
      " 9   T2M_MAX        float64       \n",
      " 10  T2M_MIN        float64       \n",
      " 11  T2M_RANGE      float64       \n",
      " 12  TS             float64       \n",
      " 13  WS10M          float64       \n",
      " 14  WS10M_MAX      float64       \n",
      " 15  WS10M_MIN      float64       \n",
      " 16  WS10M_RANGE    float64       \n",
      " 17  WS50M          float64       \n",
      " 18  WS50M_MAX      float64       \n",
      " 19  WS50M_MIN      float64       \n",
      " 20  WS50M_RANGE    float64       \n",
      " 21  score          float64       \n",
      " 22  lat            float64       \n",
      " 23  lon            float64       \n",
      " 24  elevation      int64         \n",
      " 25  slope1         float64       \n",
      " 26  slope2         float64       \n",
      " 27  slope3         float64       \n",
      " 28  slope4         float64       \n",
      " 29  slope5         float64       \n",
      " 30  slope6         float64       \n",
      " 31  slope7         float64       \n",
      " 32  slope8         float64       \n",
      " 33  aspectN        float64       \n",
      " 34  aspectE        float64       \n",
      " 35  aspectS        float64       \n",
      " 36  aspectW        float64       \n",
      " 37  aspectUnknown  float64       \n",
      " 38  WAT_LAND       float64       \n",
      " 39  NVG_LAND       float64       \n",
      " 40  URB_LAND       float64       \n",
      " 41  GRS_LAND       float64       \n",
      " 42  FOR_LAND       float64       \n",
      " 43  CULTRF_LAND    float64       \n",
      " 44  CULTIR_LAND    float64       \n",
      " 45  CULT_LAND      float64       \n",
      " 46  SQ1            int64         \n",
      " 47  SQ2            int64         \n",
      " 48  SQ3            int64         \n",
      " 49  SQ4            int64         \n",
      " 50  SQ5            int64         \n",
      " 51  SQ6            int64         \n",
      " 52  SQ7            int64         \n",
      "dtypes: datetime64[ns](1), float64(42), int64(10)\n",
      "memory usage: 3.8 GB\n"
     ]
    }
   ],
   "source": [
    "ts_merge0.info()"
   ]
  },
  {
   "cell_type": "markdown",
   "id": "8540d6d6",
   "metadata": {},
   "source": [
    "### Exploration of Training Dataset with PCA."
   ]
  },
  {
   "cell_type": "code",
   "execution_count": 8,
   "id": "1214b2e2",
   "metadata": {},
   "outputs": [
    {
     "data": {
      "text/plain": [
       "Index(['Unnamed: 0', 'fips', 'date', 'PRECTOT', 'PS', 'QV2M', 'T2M', 'T2MDEW',\n",
       "       'T2MWET', 'T2M_MAX', 'T2M_MIN', 'T2M_RANGE', 'TS', 'WS10M', 'WS10M_MAX',\n",
       "       'WS10M_MIN', 'WS10M_RANGE', 'WS50M', 'WS50M_MAX', 'WS50M_MIN',\n",
       "       'WS50M_RANGE', 'score', 'lat', 'lon', 'elevation', 'slope1', 'slope2',\n",
       "       'slope3', 'slope4', 'slope5', 'slope6', 'slope7', 'slope8', 'aspectN',\n",
       "       'aspectE', 'aspectS', 'aspectW', 'aspectUnknown', 'WAT_LAND',\n",
       "       'NVG_LAND', 'URB_LAND', 'GRS_LAND', 'FOR_LAND', 'CULTRF_LAND',\n",
       "       'CULTIR_LAND', 'CULT_LAND', 'SQ1', 'SQ2', 'SQ3', 'SQ4', 'SQ5', 'SQ6',\n",
       "       'SQ7'],\n",
       "      dtype='object')"
      ]
     },
     "execution_count": 8,
     "metadata": {},
     "output_type": "execute_result"
    }
   ],
   "source": [
    "ts_merge0.columns"
   ]
  },
  {
   "cell_type": "code",
   "execution_count": 9,
   "id": "15d86384",
   "metadata": {},
   "outputs": [],
   "source": [
    "features = ['PRECTOT', 'PS', 'QV2M', 'T2M', 'T2MDEW',\n",
    "       'T2MWET', 'T2M_MAX', 'T2M_MIN', 'T2M_RANGE', 'TS', 'WS10M', 'WS10M_MAX',\n",
    "       'WS10M_MIN', 'WS10M_RANGE', 'WS50M', 'WS50M_MAX', 'WS50M_MIN',\n",
    "       'WS50M_RANGE', 'lat', 'lon', 'elevation', 'slope1', 'slope2',\n",
    "       'slope3', 'slope4', 'slope5', 'slope6', 'slope7', 'slope8', 'aspectN',\n",
    "       'aspectE', 'aspectS', 'aspectW', 'aspectUnknown', 'WAT_LAND',\n",
    "       'NVG_LAND', 'URB_LAND', 'GRS_LAND', 'FOR_LAND', 'CULTRF_LAND',\n",
    "       'CULTIR_LAND', 'CULT_LAND', 'SQ1', 'SQ2', 'SQ3', 'SQ4', 'SQ5', 'SQ6',\n",
    "       'SQ7']\n",
    "\n",
    "# Separating out the features\n",
    "x = ts_merge0.loc[:, features].values\n",
    "\n",
    "# Separating out the target\n",
    "y = ts_merge0.loc[:,['score']].values\n",
    "\n",
    "# Standardizing the features\n",
    "x = StandardScaler().fit_transform(x)"
   ]
  },
  {
   "cell_type": "code",
   "execution_count": 10,
   "id": "f10f9618",
   "metadata": {},
   "outputs": [],
   "source": [
    "#define the PCA function\n",
    "\n",
    "pca = PCA(n_components=12)\n",
    "components = pca.fit(x)"
   ]
  },
  {
   "cell_type": "code",
   "execution_count": 11,
   "id": "d509c9cb",
   "metadata": {},
   "outputs": [
    {
     "data": {
      "text/plain": [
       "[<matplotlib.lines.Line2D at 0x3e3051b50>]"
      ]
     },
     "execution_count": 11,
     "metadata": {},
     "output_type": "execute_result"
    },
    {
     "data": {
      "image/png": "[encoded data removed]",
      "text/plain": [
       "<Figure size 1200x1200 with 1 Axes>"
      ]
     },
     "metadata": {},
     "output_type": "display_data"
    }
   ],
   "source": [
    "plt.subplots(figsize=(12,12))\n",
    "plt.plot(components.explained_variance_)"
   ]
  },
  {
   "cell_type": "markdown",
   "id": "ccea2f51",
   "metadata": {},
   "source": [
    "Looking for the 'elbow' in the graph, there appears to be a turn at around 3 & 5 components. "
   ]
  },
  {
   "cell_type": "code",
   "execution_count": null,
   "id": "1b76c39a",
   "metadata": {},
   "outputs": [],
   "source": []
  }
 ],
 "metadata": {
  "kernelspec": {
   "display_name": "Python 3 (ipykernel)",
   "language": "python",
   "name": "python3"
  },
  "language_info": {
   "codemirror_mode": {
    "name": "ipython",
    "version": 3
   },
   "file_extension": ".py",
   "mimetype": "text/x-python",
   "name": "python",
   "nbconvert_exporter": "python",
   "pygments_lexer": "ipython3",
   "version": "3.12.8"
  }
 },
 "nbformat": 4,
 "nbformat_minor": 5
}
